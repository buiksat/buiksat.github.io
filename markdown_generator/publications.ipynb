{
 "cells": [
  {
   "cell_type": "markdown",
   "metadata": {},
   "source": [
    "# Publications markdown generator for academicpages\n",
    "\n",
    "Takes a TSV of publications with metadata and converts them for use with [academicpages.github.io](academicpages.github.io). This is an interactive Jupyter notebook ([see more info here](http://jupyter-notebook-beginner-guide.readthedocs.io/en/latest/what_is_jupyter.html)). The core python code is also in `publications.py`. Run either from the `markdown_generator` folder after replacing `publications.tsv` with one containing your data.\n",
    "\n",
    "TODO: Make this work with BibTex and other databases of citations, rather than Stuart's non-standard TSV format and citation style.\n"
   ]
  },
  {
   "cell_type": "markdown",
   "metadata": {},
   "source": [
    "## Data format\n",
    "\n",
    "The TSV needs to have the following columns: pub_date, title, venue, excerpt, citation, site_url, and paper_url, with a header at the top. \n",
    "\n",
    "- `excerpt` and `paper_url` can be blank, but the others must have values. \n",
    "- `pub_date` must be formatted as YYYY-MM-DD.\n",
    "- `url_slug` will be the descriptive part of the .md file and the permalink URL for the page about the paper. The .md file will be `YYYY-MM-DD-[url_slug].md` and the permalink will be `https://[yourdomain]/publications/YYYY-MM-DD-[url_slug]`\n",
    "\n",
    "This is how the raw file looks (it doesn't look pretty, use a spreadsheet or other program to edit and create)."
   ]
  },
  {
   "cell_type": "code",
   "execution_count": 1,
   "metadata": {},
   "outputs": [
    {
     "name": "stdout",
     "output_type": "stream",
     "text": [
      "pub_date\ttitle\tvenue\texcerpt\tauthors\turl_slug\tpaper_url\r\n",
      "2015-07-01\tMonte Carlo localization in hand-drawn maps\tInternational Conference on Intelligent Robots and Systems (IROS)\t\tBahram Behzadian, Pratik Agarwal, Wolfram Burgard, and Gian Diego Tipaldi.\tPaper-title-number-1\thttp://buiksat.github.io/files/IROS_2015.pdf\r\n",
      "2015-10-01\tRobot navigation in hand-drawn sketched maps\tEuropean conference on mobile robots (ECMR)\t\tFederico Boniardi, Bahram Behzadian, Wolfram Burgard, and Gian Diego Tipaldi\tPaper-title-number-2\thttp://buiksat.github.io/files/ECMR_2015.pdf\r\n",
      "2018-01-05\tLow-rank Feature Selection for Reinforcement Learning\tInternational Symposium on Artificial Intelligence and Mathematics (ISAIM)\t\t Bahram Behzadian, Marek Petrik\tPaper-title-number-3\thttp://buiksat.github.io/files/ISAIM_2018.pdf\r\n",
      "2018-07-05\tFeature Selection by Singular Value Decomposition for Reinforcement Learning\tPrediction and Generative Modeling Workshop at IJCAI/ICML\t\t Bahram Behzadian, Marek Petrik\tPaper-title-number-4\thttp://buiksat.github.io/files/FAIM_2018.pdf\r\n",
      "2019-07-05\tFast Feature Selection for Linear Value Function Approximation\t International Conference on Automated Planning and Scheduling (ICAPS)\t\tBahram Behzadian, Soheil Gharatappeh, Marek Petrik\tPaper-title-number-5\thttp://buiksat.github.io/files/ICAPS_2019.pdf\r\n"
     ]
    }
   ],
   "source": [
    "!cat publications_bahram.tsv"
   ]
  },
  {
   "cell_type": "markdown",
   "metadata": {},
   "source": [
    "## Import pandas\n",
    "\n",
    "We are using the very handy pandas library for dataframes."
   ]
  },
  {
   "cell_type": "code",
   "execution_count": 2,
   "metadata": {},
   "outputs": [],
   "source": [
    "import pandas as pd"
   ]
  },
  {
   "cell_type": "markdown",
   "metadata": {},
   "source": [
    "## Import TSV\n",
    "\n",
    "Pandas makes this easy with the read_csv function. We are using a TSV, so we specify the separator as a tab, or `\\t`.\n",
    "\n",
    "I found it important to put this data in a tab-separated values format, because there are a lot of commas in this kind of data and comma-separated values can get messed up. However, you can modify the import statement, as pandas also has read_excel(), read_json(), and others."
   ]
  },
  {
   "cell_type": "code",
   "execution_count": 3,
   "metadata": {},
   "outputs": [
    {
     "data": {
      "text/html": [
       "<div>\n",
       "<style scoped>\n",
       "    .dataframe tbody tr th:only-of-type {\n",
       "        vertical-align: middle;\n",
       "    }\n",
       "\n",
       "    .dataframe tbody tr th {\n",
       "        vertical-align: top;\n",
       "    }\n",
       "\n",
       "    .dataframe thead th {\n",
       "        text-align: right;\n",
       "    }\n",
       "</style>\n",
       "<table border=\"1\" class=\"dataframe\">\n",
       "  <thead>\n",
       "    <tr style=\"text-align: right;\">\n",
       "      <th></th>\n",
       "      <th>pub_date</th>\n",
       "      <th>title</th>\n",
       "      <th>venue</th>\n",
       "      <th>excerpt</th>\n",
       "      <th>authors</th>\n",
       "      <th>url_slug</th>\n",
       "      <th>paper_url</th>\n",
       "    </tr>\n",
       "  </thead>\n",
       "  <tbody>\n",
       "    <tr>\n",
       "      <th>0</th>\n",
       "      <td>2015-07-01</td>\n",
       "      <td>Monte Carlo localization in hand-drawn maps</td>\n",
       "      <td>International Conference on Intelligent Robots...</td>\n",
       "      <td>NaN</td>\n",
       "      <td>Bahram Behzadian, Pratik Agarwal, Wolfram Burg...</td>\n",
       "      <td>Paper-title-number-1</td>\n",
       "      <td>http://buiksat.github.io/files/IROS_2015.pdf</td>\n",
       "    </tr>\n",
       "    <tr>\n",
       "      <th>1</th>\n",
       "      <td>2015-10-01</td>\n",
       "      <td>Robot navigation in hand-drawn sketched maps</td>\n",
       "      <td>European conference on mobile robots (ECMR)</td>\n",
       "      <td>NaN</td>\n",
       "      <td>Federico Boniardi, Bahram Behzadian, Wolfram B...</td>\n",
       "      <td>Paper-title-number-2</td>\n",
       "      <td>http://buiksat.github.io/files/ECMR_2015.pdf</td>\n",
       "    </tr>\n",
       "    <tr>\n",
       "      <th>2</th>\n",
       "      <td>2018-01-05</td>\n",
       "      <td>Low-rank Feature Selection for Reinforcement L...</td>\n",
       "      <td>International Symposium on Artificial Intellig...</td>\n",
       "      <td>NaN</td>\n",
       "      <td>Bahram Behzadian, Marek Petrik</td>\n",
       "      <td>Paper-title-number-3</td>\n",
       "      <td>http://buiksat.github.io/files/ISAIM_2018.pdf</td>\n",
       "    </tr>\n",
       "    <tr>\n",
       "      <th>3</th>\n",
       "      <td>2018-07-05</td>\n",
       "      <td>Feature Selection by Singular Value Decomposit...</td>\n",
       "      <td>Prediction and Generative Modeling Workshop at...</td>\n",
       "      <td>NaN</td>\n",
       "      <td>Bahram Behzadian, Marek Petrik</td>\n",
       "      <td>Paper-title-number-4</td>\n",
       "      <td>http://buiksat.github.io/files/FAIM_2018.pdf</td>\n",
       "    </tr>\n",
       "    <tr>\n",
       "      <th>4</th>\n",
       "      <td>2019-07-05</td>\n",
       "      <td>Fast Feature Selection for Linear Value Functi...</td>\n",
       "      <td>International Conference on Automated Plannin...</td>\n",
       "      <td>NaN</td>\n",
       "      <td>Bahram Behzadian, Soheil Gharatappeh, Marek Pe...</td>\n",
       "      <td>Paper-title-number-5</td>\n",
       "      <td>http://buiksat.github.io/files/ICAPS_2019.pdf</td>\n",
       "    </tr>\n",
       "  </tbody>\n",
       "</table>\n",
       "</div>"
      ],
      "text/plain": [
       "     pub_date                                              title  \\\n",
       "0  2015-07-01        Monte Carlo localization in hand-drawn maps   \n",
       "1  2015-10-01       Robot navigation in hand-drawn sketched maps   \n",
       "2  2018-01-05  Low-rank Feature Selection for Reinforcement L...   \n",
       "3  2018-07-05  Feature Selection by Singular Value Decomposit...   \n",
       "4  2019-07-05  Fast Feature Selection for Linear Value Functi...   \n",
       "\n",
       "                                               venue  excerpt  \\\n",
       "0  International Conference on Intelligent Robots...      NaN   \n",
       "1        European conference on mobile robots (ECMR)      NaN   \n",
       "2  International Symposium on Artificial Intellig...      NaN   \n",
       "3  Prediction and Generative Modeling Workshop at...      NaN   \n",
       "4   International Conference on Automated Plannin...      NaN   \n",
       "\n",
       "                                             authors              url_slug  \\\n",
       "0  Bahram Behzadian, Pratik Agarwal, Wolfram Burg...  Paper-title-number-1   \n",
       "1  Federico Boniardi, Bahram Behzadian, Wolfram B...  Paper-title-number-2   \n",
       "2                     Bahram Behzadian, Marek Petrik  Paper-title-number-3   \n",
       "3                     Bahram Behzadian, Marek Petrik  Paper-title-number-4   \n",
       "4  Bahram Behzadian, Soheil Gharatappeh, Marek Pe...  Paper-title-number-5   \n",
       "\n",
       "                                       paper_url  \n",
       "0   http://buiksat.github.io/files/IROS_2015.pdf  \n",
       "1   http://buiksat.github.io/files/ECMR_2015.pdf  \n",
       "2  http://buiksat.github.io/files/ISAIM_2018.pdf  \n",
       "3   http://buiksat.github.io/files/FAIM_2018.pdf  \n",
       "4  http://buiksat.github.io/files/ICAPS_2019.pdf  "
      ]
     },
     "execution_count": 3,
     "metadata": {},
     "output_type": "execute_result"
    }
   ],
   "source": [
    "publications = pd.read_csv(\"publications_bahram.tsv\", sep=\"\\t\", header=0)\n",
    "publications\n"
   ]
  },
  {
   "cell_type": "markdown",
   "metadata": {},
   "source": [
    "## Escape special characters\n",
    "\n",
    "YAML is very picky about how it takes a valid string, so we are replacing single and double quotes (and ampersands) with their HTML encoded equivilents. This makes them look not so readable in raw format, but they are parsed and rendered nicely."
   ]
  },
  {
   "cell_type": "code",
   "execution_count": 4,
   "metadata": {},
   "outputs": [],
   "source": [
    "html_escape_table = {\n",
    "    \"&\": \"&amp;\",\n",
    "    '\"': \"&quot;\",\n",
    "    \"'\": \"&apos;\"\n",
    "    }\n",
    "\n",
    "def html_escape(text):\n",
    "    \"\"\"Produce entities within text.\"\"\"\n",
    "    return \"\".join(html_escape_table.get(c,c) for c in text)"
   ]
  },
  {
   "cell_type": "markdown",
   "metadata": {},
   "source": [
    "## Creating the markdown files\n",
    "\n",
    "This is where the heavy lifting is done. This loops through all the rows in the TSV dataframe, then starts to concatentate a big string (```md```) that contains the markdown for each type. It does the YAML metadata first, then does the description for the individual page."
   ]
  },
  {
   "cell_type": "code",
   "execution_count": 5,
   "metadata": {},
   "outputs": [],
   "source": [
    "import os\n",
    "for row, item in publications.iterrows():\n",
    "    \n",
    "    md_filename = str(item.pub_date) + \"-\" + item.url_slug + \".md\"\n",
    "    html_filename = str(item.pub_date) + \"-\" + item.url_slug\n",
    "    year = item.pub_date[:4]\n",
    "    \n",
    "    ## YAML variables\n",
    "    \n",
    "    md = \"---\\ntitle: \\\"\"   + item.title + '\"\\n'\n",
    "    \n",
    "    md += \"\"\"collection: publications\"\"\"\n",
    "    \n",
    "    md += \"\"\"\\npermalink: /publication/\"\"\" + html_filename\n",
    "    \n",
    "    if len(str(item.excerpt)) > 5:\n",
    "        md += \"\\nexcerpt: '\" + html_escape(item.excerpt) + \"'\"\n",
    "    \n",
    "    md += \"\\ndate: \" + str(item.pub_date) \n",
    "    \n",
    "    md += \"\\nvenue: '\" + html_escape(item.venue) + \"'\"\n",
    "    \n",
    "    if len(str(item.paper_url)) > 5:\n",
    "        md += \"\\npaperurl: '\" + item.paper_url + \"'\"\n",
    "    \n",
    "    md += \"\\nauthors: '\" + html_escape(item.authors) + \"'\"\n",
    "    \n",
    "    md += \"\\n---\"\n",
    "    \n",
    "    ## Markdown description for individual page\n",
    "        \n",
    "    if len(str(item.excerpt)) > 5:\n",
    "        md += \"\\n\" + html_escape(item.excerpt) + \"\\n\"\n",
    "    \n",
    "    #if len(str(item.paper_url)) > 5:\n",
    "    #    md += \"\\n[PDF](\" + item.paper_url + \")\\n\" \n",
    "        \n",
    "    md += \"\\nAuthors: \" + item.authors\n",
    "    \n",
    "    md_filename = os.path.basename(md_filename)\n",
    "       \n",
    "    with open(\"../_publications/\" + md_filename, 'w') as f:\n",
    "        f.write(md)"
   ]
  },
  {
   "cell_type": "markdown",
   "metadata": {},
   "source": [
    "These files are in the publications directory, one directory below where we're working from."
   ]
  },
  {
   "cell_type": "code",
   "execution_count": 6,
   "metadata": {},
   "outputs": [
    {
     "name": "stdout",
     "output_type": "stream",
     "text": [
      "2015-07-01-Paper-title-number-1.md  2018-07-05-Paper-title-number-4.md\r\n",
      "2015-10-01-Paper-title-number-2.md  2019-07-05-Paper-title-number-5.md\r\n",
      "2018-01-05-Paper-title-number-3.md\r\n"
     ]
    }
   ],
   "source": [
    "!ls ../_publications/"
   ]
  },
  {
   "cell_type": "code",
   "execution_count": 22,
   "metadata": {},
   "outputs": [
    {
     "name": "stdout",
     "output_type": "stream",
     "text": [
      "cat: ../_publications/2009-10-01-paper-title-number-1.md: No such file or directory\r\n"
     ]
    }
   ],
   "source": [
    "!cat ../_publications/2009-10-01-paper-title-number-1.md"
   ]
  },
  {
   "cell_type": "code",
   "execution_count": null,
   "metadata": {
    "collapsed": true
   },
   "outputs": [],
   "source": []
  }
 ],
 "metadata": {
  "kernelspec": {
   "display_name": "Python 3",
   "language": "python",
   "name": "python3"
  },
  "language_info": {
   "codemirror_mode": {
    "name": "ipython",
    "version": 3
   },
   "file_extension": ".py",
   "mimetype": "text/x-python",
   "name": "python",
   "nbconvert_exporter": "python",
   "pygments_lexer": "ipython3",
   "version": "3.7.3"
  }
 },
 "nbformat": 4,
 "nbformat_minor": 1
}
